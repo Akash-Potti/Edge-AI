{
 "cells": [
  {
   "cell_type": "code",
   "execution_count": null,
   "id": "1dc3a613-f616-4ed2-9c70-15035d678e0c",
   "metadata": {},
   "outputs": [],
   "source": [
    "# Embedding weights: float embedding_weights[vocab_size][embed_dim]\n",
    "# GRU weights: float gru_kernel[input_dim][units]\n",
    "#              float gru_recurrent_kernel[units][units]\n",
    "#              float gru_bias[3 * units]\n",
    "# Dense weights: float dense_kernel[units][2]\n",
    "#                float dense_bias[2]\n",
    "# Tokenizer: const char* vocab[] = { \"PAD\", \"turn\", \"on\", \"off\", ... };"
   ]
  },
  {
   "cell_type": "code",
   "execution_count": 6,
   "id": "3b16591f-ebff-4f28-9034-d64538d41e19",
   "metadata": {},
   "outputs": [],
   "source": [
    "import tensorflow as tf\n",
    "import numpy as np\n",
    "import pickle"
   ]
  },
  {
   "cell_type": "code",
   "execution_count": 7,
   "id": "d229d350-fc48-43e8-b77b-c2ebffef8475",
   "metadata": {},
   "outputs": [],
   "source": [
    "with open(\"tokenizer.pkl\", \"rb\") as f:\n",
    "    tokenizer = pickle.load(f)\n",
    "word_index = tokenizer.word_index\n",
    "vocab_size = len(word_index) + 1  # +1 for padding"
   ]
  },
  {
   "cell_type": "code",
   "execution_count": 10,
   "id": "6749728c-3c06-468c-9642-d1f9380bd4f2",
   "metadata": {},
   "outputs": [],
   "source": [
    "model = tf.keras.Sequential([\n",
    "    tf.keras.layers.Embedding(input_dim=vocab_size, output_dim=8, input_length=5, name=\"embedding\"),\n",
    "    tf.keras.layers.GRU(16, name=\"gru\"),\n",
    "    tf.keras.layers.Dense(2, activation='softmax', name=\"dense\")\n",
    "])\n",
    "model.build(input_shape=(None, 5))\n",
    "model.load_weights(\"gru_led_intent_weights.weights.h5\")"
   ]
  },
  {
   "cell_type": "code",
   "execution_count": 12,
   "id": "3344f389-97e9-4615-bab0-c4bc27b4820a",
   "metadata": {},
   "outputs": [],
   "source": [
    "embedding_layer = model.get_layer(\"embedding\")\n",
    "gru_layer = model.get_layer(\"gru\")\n",
    "dense_layer = model.get_layer(\"dense\")\n",
    "\n",
    "embedding_dim = embedding_layer.output_dim\n",
    "input_length = model.input_shape[1]\n",
    "gru_units = gru_layer.units\n",
    "output_units = dense_layer.units"
   ]
  },
  {
   "cell_type": "code",
   "execution_count": 14,
   "id": "9f333570-efa8-4c87-9b45-6992f79e1144",
   "metadata": {},
   "outputs": [],
   "source": [
    "embedding_weights = embedding_layer.get_weights()[0]\n",
    "gru_kernel, gru_recurrent, gru_bias = gru_layer.get_weights()\n",
    "dense_kernel, dense_bias = dense_layer.get_weights()"
   ]
  },
  {
   "cell_type": "code",
   "execution_count": 15,
   "id": "4169fee8-0693-41b1-8479-1343207bc048",
   "metadata": {},
   "outputs": [],
   "source": [
    "max_vocab = vocab_size\n",
    "vocab_list = ['PAD'] * max_vocab\n",
    "for word, idx in word_index.items():\n",
    "    vocab_list[idx] = word"
   ]
  },
  {
   "cell_type": "code",
   "execution_count": 16,
   "id": "f8450b8a-09dd-4e3a-813d-9377a7f7c630",
   "metadata": {},
   "outputs": [],
   "source": [
    "def array_to_c(name, arr):\n",
    "    flat = arr.flatten()\n",
    "    c_array = f\"// shape: {arr.shape}\\n\"\n",
    "    c_array += f\"float {name}[{len(flat)}] = {{\\n  \"\n",
    "    c_array += ', '.join(f\"{x:.6f}\" for x in flat)\n",
    "    c_array += \"\\n};\\n\"\n",
    "    return c_array"
   ]
  },
  {
   "cell_type": "code",
   "execution_count": 17,
   "id": "ab76cad8-4717-4148-b61e-7bce4e828ffa",
   "metadata": {},
   "outputs": [],
   "source": [
    "with open(\"model_weights.h\", \"w\") as f:\n",
    "    f.write(\"#ifndef MODEL_WEIGHTS_H\\n#define MODEL_WEIGHTS_H\\n\\n\")\n",
    "\n",
    "    # === Constants ===\n",
    "    f.write(\"// === Model Constants ===\\n\")\n",
    "    f.write(f\"#define VOCAB_SIZE {vocab_size}\\n\")\n",
    "    f.write(f\"#define EMBED_DIM {embedding_dim}\\n\")\n",
    "    f.write(f\"#define SEQ_LEN {input_length}\\n\")\n",
    "    f.write(f\"#define GRU_UNITS {gru_units}\\n\")\n",
    "    f.write(f\"#define OUTPUT_CLASSES {output_units}\\n\\n\")\n",
    "\n",
    "    # === Weights ===\n",
    "    f.write(\"// === Embedding Weights ===\\n\")\n",
    "    f.write(array_to_c(\"embedding_weights\", embedding_weights))\n",
    "\n",
    "    f.write(\"\\n// === GRU Weights ===\\n\")\n",
    "    f.write(array_to_c(\"gru_kernel\", gru_kernel))\n",
    "    f.write(array_to_c(\"gru_recurrent\", gru_recurrent))\n",
    "    f.write(array_to_c(\"gru_bias\", gru_bias))\n",
    "\n",
    "    f.write(\"\\n// === Dense Weights ===\\n\")\n",
    "    f.write(array_to_c(\"dense_kernel\", dense_kernel))\n",
    "    f.write(array_to_c(\"dense_bias\", dense_bias))\n",
    "\n",
    "    # === Vocab ===\n",
    "    f.write(\"\\n// === Tokenizer Vocabulary ===\\n\")\n",
    "    f.write(f\"const char* vocab[VOCAB_SIZE] = {{\\n\")\n",
    "    f.write(\",\\n\".join([f'  \"{w}\"' for w in vocab_list]))\n",
    "    f.write(\"\\n};\\n\")\n",
    "\n",
    "    f.write(\"\\n#endif // MODEL_WEIGHTS_H\\n\")"
   ]
  },
  {
   "cell_type": "code",
   "execution_count": null,
   "id": "aa1b38af-9c12-4e1e-af8f-4e98b9340931",
   "metadata": {},
   "outputs": [],
   "source": []
  }
 ],
 "metadata": {
  "kernelspec": {
   "display_name": "Python 3 (ipykernel)",
   "language": "python",
   "name": "python3"
  },
  "language_info": {
   "codemirror_mode": {
    "name": "ipython",
    "version": 3
   },
   "file_extension": ".py",
   "mimetype": "text/x-python",
   "name": "python",
   "nbconvert_exporter": "python",
   "pygments_lexer": "ipython3",
   "version": "3.10.18"
  }
 },
 "nbformat": 4,
 "nbformat_minor": 5
}
